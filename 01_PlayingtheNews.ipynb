{
 "cells": [
  {
   "cell_type": "code",
   "execution_count": null,
   "id": "29db22a6",
   "metadata": {},
   "outputs": [],
   "source": [
    "# import libraries\n",
    "import spotipy\n",
    "import spotipy.util as util\n",
    "import webbrowser\n",
    "import json\n",
    "import urllib.request\n",
    "from nltk.corpus import stopwords\n",
    "from nltk import pos_tag\n",
    "import requests\n",
    "import collections"
   ]
  },
  {
   "cell_type": "code",
   "execution_count": null,
   "id": "d9771433",
   "metadata": {},
   "outputs": [],
   "source": [
    "# the variable key now contains my API key\n",
    "with open(\"news_key.txt\", \"r\") as file:\n",
    "    key = file.read()"
   ]
  },
  {
   "cell_type": "code",
   "execution_count": null,
   "id": "a67e1a6e",
   "metadata": {},
   "outputs": [],
   "source": [
    "# this is the url for the news api\n",
    "url = f\"https://newsapi.org/v2/top-headlines?category=technology&apiKey={key}\""
   ]
  },
  {
   "cell_type": "code",
   "execution_count": null,
   "id": "8f400dd7",
   "metadata": {},
   "outputs": [],
   "source": [
    "# request is when im asking for data\n",
    "request = urllib.request.Request(url)\n",
    "# response is the answer i get for asking for data\n",
    "response = urllib.request.urlopen(request)"
   ]
  },
  {
   "cell_type": "code",
   "execution_count": null,
   "id": "76befd7e",
   "metadata": {},
   "outputs": [],
   "source": [
    "# i didn't remember what data type response is - so i printed it!\n",
    "type(response)"
   ]
  },
  {
   "cell_type": "code",
   "execution_count": null,
   "id": "045c3b8a",
   "metadata": {},
   "outputs": [],
   "source": [
    "# converting the HTTPResponse object to a python dictionary\n",
    "headlines = json.loads(response.read())"
   ]
  },
  {
   "cell_type": "code",
   "execution_count": null,
   "id": "4b0439b1",
   "metadata": {},
   "outputs": [],
   "source": [
    "headlines"
   ]
  },
  {
   "cell_type": "code",
   "execution_count": null,
   "id": "7a986c57",
   "metadata": {},
   "outputs": [],
   "source": [
    "# make an empty list of my titles\n",
    "# article_titles = []\n",
    "# for headline in headlines['articles']:\n",
    "#     article_titles.append(headline['title'])\n",
    "\n",
    "article_titles = [x['title'] for x in headlines['articles']]"
   ]
  },
  {
   "cell_type": "code",
   "execution_count": null,
   "id": "1461137c",
   "metadata": {},
   "outputs": [],
   "source": [
    "article_titles"
   ]
  },
  {
   "cell_type": "code",
   "execution_count": null,
   "id": "ba3ea24d-82ef-4bbc-beb4-d34c1cdf7a85",
   "metadata": {},
   "outputs": [],
   "source": [
    "# list of all possible POS tags from nltk: https://stackoverflow.com/questions/15388831/what-are-all-possible-pos-tags-of-nltk\n",
    "list_of_words = []\n",
    "for headline in article_titles:\n",
    "    tagged_sent = pos_tag(headline.split())    \n",
    "    list_of_words.extend([word for word,pos in tagged_sent if pos == 'NNP' and word.lower() not in stopwords.words('english') and word.isalpha()])\n"
   ]
  },
  {
   "cell_type": "code",
   "execution_count": null,
   "id": "3fb1d32d-c0e5-4eb4-8294-50bd54a8bfe9",
   "metadata": {},
   "outputs": [],
   "source": [
    "list_of_words"
   ]
  },
  {
   "cell_type": "code",
   "execution_count": null,
   "id": "998d9785-b7d9-432e-ad7d-4dc52c8dd15a",
   "metadata": {},
   "outputs": [],
   "source": [
    "word_counter = collections.Counter(list_of_words)\n",
    "word_counter"
   ]
  },
  {
   "cell_type": "code",
   "execution_count": null,
   "id": "773dabff-90c2-4d1b-a617-2ec9b44ece2e",
   "metadata": {},
   "outputs": [],
   "source": [
    "# if you want to remove duplicates in a list, convert to a dictionary and then back to a list\n",
    "# because a dictionary does not allow duplicate keys and will remove them\n",
    "list_of_words_no_repeat = list(dict.fromkeys(list_of_words))\n",
    "list_of_words_no_repeat"
   ]
  },
  {
   "cell_type": "code",
   "execution_count": null,
   "id": "c4ca4d43",
   "metadata": {},
   "outputs": [],
   "source": [
    "# open file with keys and set the path to your credentials JSON file\n",
    "credentials = \"spotify_keys.json\"\n",
    "with open(credentials, \"r\") as keys:\n",
    "    api_tokens = json.load(keys)"
   ]
  },
  {
   "cell_type": "code",
   "execution_count": null,
   "id": "5cc89e53",
   "metadata": {},
   "outputs": [],
   "source": [
    "api_tokens"
   ]
  },
  {
   "cell_type": "code",
   "execution_count": null,
   "id": "e9648894",
   "metadata": {},
   "outputs": [],
   "source": [
    "client_id = api_tokens[\"client_id\"]\n",
    "client_secret = api_tokens[\"client_secret\"]\n",
    "redirectURI = api_tokens[\"redirect\"]\n",
    "username = api_tokens[\"username\"]"
   ]
  },
  {
   "cell_type": "code",
   "execution_count": null,
   "id": "395a77f0",
   "metadata": {},
   "outputs": [],
   "source": [
    "scope = 'user-read-private user-read-playback-state user-modify-playback-state playlist-modify-public user-library-read'\n",
    "token = util.prompt_for_user_token(username, scope, client_id=client_id,\n",
    "                           client_secret=client_secret,\n",
    "                           redirect_uri=redirectURI)"
   ]
  },
  {
   "cell_type": "code",
   "execution_count": null,
   "id": "342483dd",
   "metadata": {},
   "outputs": [],
   "source": [
    "# print out token\n",
    "token"
   ]
  },
  {
   "cell_type": "code",
   "execution_count": null,
   "id": "15ba215f",
   "metadata": {},
   "outputs": [],
   "source": [
    "# create my Spotify object\n",
    "sp = spotipy.Spotify(auth=token)"
   ]
  },
  {
   "cell_type": "code",
   "execution_count": null,
   "id": "7fddf460",
   "metadata": {},
   "outputs": [],
   "source": [
    "# start a list of songs for my headline playlist\n",
    "songs_for_playlist = []\n",
    "for keyword in word_counter.keys():\n",
    "    # only take the 'top' words\n",
    "    if word_counter[keyword] >= 2:\n",
    "        # search for artists based on my keyword, only give me one artist\n",
    "        searchResults = sp.search(q=\"artist:\" + keyword, type=\"track\", limit=1)\n",
    "        # if the search returns anything\n",
    "        if len(searchResults['tracks']['items']) > 0:\n",
    "            songs_for_playlist.append(searchResults['tracks']['items'][0]['uri'])\n",
    "    \n",
    "print(songs_for_playlist)"
   ]
  },
  {
   "cell_type": "code",
   "execution_count": null,
   "id": "d1dbae13",
   "metadata": {},
   "outputs": [],
   "source": [
    "my_playlist = sp.user_playlist_create(user=username, name=\"Todays News\", public=True,\n",
    "                                      description=\"Songs for the news\")\n",
    "results = sp.user_playlist_add_tracks(username, my_playlist['id'], songs_for_playlist)\n",
    "print(results)"
   ]
  },
  {
   "cell_type": "code",
   "execution_count": null,
   "id": "4bf911dc",
   "metadata": {},
   "outputs": [],
   "source": [
    "webbrowser.open(my_playlist['external_urls']['spotify'])"
   ]
  }
 ],
 "metadata": {
  "kernelspec": {
   "display_name": "Python 3 (ipykernel)",
   "language": "python",
   "name": "python3"
  },
  "language_info": {
   "codemirror_mode": {
    "name": "ipython",
    "version": 3
   },
   "file_extension": ".py",
   "mimetype": "text/x-python",
   "name": "python",
   "nbconvert_exporter": "python",
   "pygments_lexer": "ipython3",
   "version": "3.12.7"
  }
 },
 "nbformat": 4,
 "nbformat_minor": 5
}
