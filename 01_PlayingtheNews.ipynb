{
 "cells": [
  {
   "cell_type": "code",
   "execution_count": 52,
   "id": "29db22a6",
   "metadata": {},
   "outputs": [],
   "source": [
    "# Import the Spotipy library for interacting with the Spotify Web API, allowing us to fetch and manage Spotify data.\n",
    "import spotipy\n",
    "\n",
    "# Import the utility module from Spotipy, providing helpful functions for authentication and token handling.\n",
    "import spotipy.util as util\n",
    "\n",
    "# Import the webbrowser module, enabling control over the web browser to open URLs (e.g., for authorization purposes).\n",
    "import webbrowser\n",
    "\n",
    "# Import the json library to handle JSON data (e.g., for reading/writing Spotify API responses).\n",
    "import json\n",
    "\n",
    "# Import the urllib.request module, which provides functions for opening URLs, handling HTTP requests, etc.\n",
    "import urllib.request\n",
    "\n",
    "# Import the NLTK (Natural Language Toolkit) stopwords, a list of common words (e.g., \"the,\" \"and\") for text processing.\n",
    "from nltk.corpus import stopwords\n",
    "\n",
    "# Import NLTK's part-of-speech (POS) tagging tool, which labels words in a sentence with their parts of speech (e.g., noun, verb).\n",
    "from nltk import pos_tag\n",
    "\n",
    "# Import the requests library to make HTTP requests (alternative to urllib for handling API requests).\n",
    "import requests\n",
    "\n",
    "# Import the collections module, offering specialized data structures like dictionaries with default values, counters, etc.\n",
    "import collections\n"
   ]
  },
  {
   "cell_type": "code",
   "execution_count": 53,
   "id": "d9771433",
   "metadata": {},
   "outputs": [],
   "source": [
    "# the variable key now contains my API key\n",
    "with open(\"news_key.txt.txt\", \"r\") as file:\n",
    "    key = file.read()"
   ]
  },
  {
   "cell_type": "code",
   "execution_count": 88,
   "id": "a67e1a6e",
   "metadata": {},
   "outputs": [
    {
     "data": {
      "text/plain": [
       "'https://newsapi.org/v2/top-headlines?category=technology&apiKey=cda165020a74441fbe535a0d6ed3f805'"
      ]
     },
     "execution_count": 88,
     "metadata": {},
     "output_type": "execute_result"
    }
   ],
   "source": [
    "# this is the url for the news api\n",
    "url = f\"https://newsapi.org/v2/top-headlines?category=technology&apiKey={key}\"\n",
    "url"
   ]
  },
  {
   "cell_type": "code",
   "execution_count": 55,
   "id": "8f400dd7",
   "metadata": {},
   "outputs": [],
   "source": [
    "# request is when im asking for data\n",
    "request = urllib.request.Request(url)\n",
    "# response is the answer i get for asking for data\n",
    "response = urllib.request.urlopen(request)"
   ]
  },
  {
   "cell_type": "code",
   "execution_count": 56,
   "id": "76befd7e",
   "metadata": {},
   "outputs": [
    {
     "data": {
      "text/plain": [
       "http.client.HTTPResponse"
      ]
     },
     "execution_count": 56,
     "metadata": {},
     "output_type": "execute_result"
    }
   ],
   "source": [
    "# i didn't remember what data type response is - so i printed it!\n",
    "type(response)"
   ]
  },
  {
   "cell_type": "code",
   "execution_count": 57,
   "id": "045c3b8a",
   "metadata": {},
   "outputs": [],
   "source": [
    "# converting the HTTPResponse object to a python dictionary\n",
    "headlines = json.loads(response.read())"
   ]
  },
  {
   "cell_type": "code",
   "execution_count": 58,
   "id": "4b0439b1",
   "metadata": {},
   "outputs": [
    {
     "data": {
      "text/plain": [
       "{'status': 'ok',\n",
       " 'totalResults': 31,\n",
       " 'articles': [{'source': {'id': None, 'name': '9to5Mac'},\n",
       "   'author': 'Filipe Espósito',\n",
       "   'title': 'Apple announces Vision Pro international expansion in two more countries - 9to5Mac',\n",
       "   'description': 'Following an exclusive launch in the US in February, Apple began the international expansion of Vision Pro in June. Now...',\n",
       "   'url': 'https://9to5mac.com/2024/10/30/apple-vision-pro-international-expansion/',\n",
       "   'urlToImage': 'https://i0.wp.com/9to5mac.com/wp-content/uploads/sites/6/2024/10/vision-pro-eyesight-2.jpeg?resize=1200%2C628&quality=82&strip=all&ssl=1',\n",
       "   'publishedAt': '2024-10-31T03:14:00Z',\n",
       "   'content': 'Following an exclusive launch in the US in February, Apple began the international expansion of Vision Pro in June. Now the company is ready to bring Apple Vision Pro to even more countries, as the c… [+1321 chars]'},\n",
       "  {'source': {'id': None, 'name': 'KGW.com'},\n",
       "   'author': 'Katherine Cook',\n",
       "   'title': \"Portland radio DJ survives near-death experience and loses his job before finding a better life: 'I'm lucky' - KGW.com\",\n",
       "   'description': \"Greg Glover has been a fixture at 94.7 KNRK for nearly 20 years. He hopes sharing his story will encourage others facing challenges similar to those he's endured.\",\n",
       "   'url': 'https://www.kgw.com/article/news/community/pacific-storyland/greg-glover-radio-dj-knrk-lost-job-life-alcoholic-pacific-storyland/283-c21c8e1c-fffc-4898-95db-7fc1c1c0f91c',\n",
       "   'urlToImage': 'https://media.kgw.com/assets/KGW/images/baf04fc4-8385-425e-bedd-3fa0147618c8/20241031T003322/baf04fc4-8385-425e-bedd-3fa0147618c8_1140x641.jpg',\n",
       "   'publishedAt': '2024-10-31T01:05:00Z',\n",
       "   'content': \"PORTLAND, Ore. As the sun rises each morning, droves of groggy Portlanders awaken to a voice they've been tuning in to for nearly two decades. It belongs to Greg Glover, a radio DJ for 94.7 KNRK, an … [+8290 chars]\"},\n",
       "  {'source': {'id': None, 'name': 'Eurogamer.net'},\n",
       "   'author': 'Matt Wales',\n",
       "   'title': 'Call of Duty: Black Ops 6 sets record for \"Game Pass subscriber adds on launch day\", says Microsoft - Eurogamer',\n",
       "   'description': 'Microsoft boss Satya Nadella has called last week\\'s Black Ops 6 launch the \"biggest Call of Duty release ever\", saying …',\n",
       "   'url': 'https://www.eurogamer.net/call-of-duty-black-ops-6-sets-records-for-game-pass-subscriber-adds-on-launch-day-says-microsoft',\n",
       "   'urlToImage': 'https://assetsio.gnwcdn.com/Call-of-Duty-Black-Ops-6-screenshot-from-trailer.jpg?width=1200&height=630&fit=crop&enable=upscale&auto=webp',\n",
       "   'publishedAt': '2024-10-30T23:03:53Z',\n",
       "   'content': 'Microsoft boss Satya Nadella has called last week\\'s Black Ops 6 launch the \"biggest Call of Duty release ever\", saying its arrival set a record for \"Game Pass subscriber adds on launch day.\"\\r\\nNews of… [+2659 chars]'},\n",
       "  {'source': {'id': 'the-verge', 'name': 'The Verge'},\n",
       "   'author': 'Andrew Webster',\n",
       "   'title': 'Nintendo made a music streaming app for Switch Online subscribers - The Verge',\n",
       "   'description': 'Nintendo has announced a new music streaming app, called Nintendo Music, that’s available on October 30th for Switch Online subscribers.',\n",
       "   'url': 'https://www.theverge.com/2024/10/30/24284073/nintendo-music-streaming-app-switch-online-subscribers',\n",
       "   'urlToImage': 'https://cdn.vox-cdn.com/thumbor/LOdMBkWvL31Ba4R1Io7GKQAiszs=/0x0:2148x1104/1200x628/filters:focal(1074x552:1075x553)/cdn.vox-cdn.com/uploads/chorus_asset/file/25707406/Screen_Shot_2024_10_30_at_6.09.39_PM.png',\n",
       "   'publishedAt': '2024-10-30T22:22:09Z',\n",
       "   'content': 'Nintendo made a music streaming app for Switch Online subscribers\\r\\nNintendo made a music streaming app for Switch Online subscribers\\r\\n / Its not a Switch 2, but the mobile app sure does sound cool.\\r\\n… [+1412 chars]'},\n",
       "  {'source': {'id': 'the-verge', 'name': 'The Verge'},\n",
       "   'author': 'Umar Shakir',\n",
       "   'title': 'Google’s AI-powered weather app is rolling out to older Pixels - The Verge',\n",
       "   'description': 'Google is rolling out its standalone Weather app with AI-powered summaries to older Pixel devices, including the 6,\\xa06 Pro, 6A,\\xa07, 7 Pro, 7A, 8, 8 Pro, and 8A.',\n",
       "   'url': 'https://www.theverge.com/2024/10/30/24283998/google-weather-app-pixel-8-7-6-ai-summaries',\n",
       "   'urlToImage': 'https://cdn.vox-cdn.com/thumbor/3jUIPqWVD0mN7Mhj4MdLW0QW5AQ=/0x0:1564x1043/1200x628/filters:focal(782x522:783x523)/cdn.vox-cdn.com/uploads/chorus_asset/file/25707311/Screenshot_2024_10_30_at_5.17.50_PM.jpeg',\n",
       "   'publishedAt': '2024-10-30T22:19:30Z',\n",
       "   'content': 'Googles AI-powered weather app is rolling out to older Pixels\\r\\nGoogles AI-powered weather app is rolling out to older Pixels\\r\\n / Googles standalone weather app, which was already included on Pixel 9 … [+1322 chars]'},\n",
       "  {'source': {'id': None, 'name': 'DSOGaming'},\n",
       "   'author': 'John Papadopoulos',\n",
       "   'title': 'Red Dead Redemption Remastered is CPU-bound on PC, even with an AMD Ryzen 9 7950X3D - DSOGaming',\n",
       "   'description': 'Red Dead Redemption Remastered is CPU-bound on PC, even when gaming at 4K with high-end CPUs like the AMD Ryzen 9 7950X3D.',\n",
       "   'url': 'https://www.dsogaming.com/articles/red-dead-redemption-remaster-is-cpu-bound-on-pc-even-with-an-amd-ryzen-9-7950x3d/',\n",
       "   'urlToImage': 'https://www.dsogaming.com/wp-content/uploads/2024/10/Red-Dead-Redemption-Remastered-feature-1-scaled.jpg',\n",
       "   'publishedAt': '2024-10-30T20:39:38Z',\n",
       "   'content': 'Rockstar has just released Red Dead Redemption Remastered on PC. And, to be honest, I wasn’t planning to cover it. You see, this is a remaster and we don’t usually benchmark them. However, after popu… [+3518 chars]'},\n",
       "  {'source': {'id': 'ars-technica', 'name': 'Ars Technica'},\n",
       "   'author': 'Dan Goodin',\n",
       "   'title': 'Android Trojan that intercepts voice calls to banks just got more stealthy - Ars Technica',\n",
       "   'description': 'FakeCall malware can reroute calls intended for banks to attacker-controlled numbers.',\n",
       "   'url': 'https://arstechnica.com/information-technology/2024/10/android-trojan-that-intercepts-voice-calls-to-banks-just-got-more-stealthy/',\n",
       "   'urlToImage': 'https://cdn.arstechnica.net/wp-content/uploads/2024/10/infected-phone-1000x648.jpg',\n",
       "   'publishedAt': '2024-10-30T19:59:03Z',\n",
       "   'content': None},\n",
       "  {'source': {'id': 'ign', 'name': 'IGN'},\n",
       "   'author': 'Matt Kim',\n",
       "   'title': \"PlayStation Urgently Needs To Rethink Its Live-Service Strategy After Concord's Failure - IGN\",\n",
       "   'description': \"Concord's failure and PlayStation's response shows that something is seriously wrong with how Sony is approaching its aggressive live-service games strategy. And something needs to change.\",\n",
       "   'url': 'https://www.ign.com/articles/concord-firewalk-what-playstation-can-learn-from-this-failure',\n",
       "   'urlToImage': 'https://assets-prd.ignimgs.com/2024/10/30/concordlennoxtrailer-ign-blogrol-1730315300208.png?width=1280',\n",
       "   'publishedAt': '2024-10-30T19:20:27Z',\n",
       "   'content': 'After years of console domination, were starting to see cracks in the PlayStation brand as it tries to brute force its way towards live-service supremacy. Theres no clearer example of this than the h… [+8196 chars]'},\n",
       "  {'source': {'id': 'techcrunch', 'name': 'TechCrunch'},\n",
       "   'author': 'Sarah Perez',\n",
       "   'title': 'WordPress co-founder Matt Mullenweg says a fork would be ‘fantastic’ - TechCrunch',\n",
       "   'description': \"WordPress co-founder and Automattic CEO Matt Mullenweg, speaking on stage at TechCrunch Disrupt 2024 on Wednesday, said he's not worried that the recent\",\n",
       "   'url': 'https://techcrunch.com/2024/10/30/wordpress-co-founder-matt-mullenweg-says-a-fork-would-be-fantastic/',\n",
       "   'urlToImage': 'https://techcrunch.com/wp-content/uploads/2024/10/matt-mullenweg-disrupt.jpg?resize=1200,800',\n",
       "   'publishedAt': '2024-10-30T19:17:22Z',\n",
       "   'content': 'WordPress co-founder and Automattic CEO Matt Mullenweg, speaking on stage at TechCrunch Disrupt 2024 on Wednesday, said he’s not worried that the recent legal drama between his company, Automattic, a… [+2504 chars]'},\n",
       "  {'source': {'id': None, 'name': 'Bloody Disgusting'},\n",
       "   'author': 'Mike Wilson',\n",
       "   'title': '10 Horror Video Games to Play for Halloween 2024 - Bloody Disgusting',\n",
       "   'description': 'It’s that time of year again. And while watching one of the classics on TV or Blu-ray never gets old, sometimes you want to mix things up for Halloween with video game or two. There’s obviously no shortage of titles to choose from, but if you’re stuck with wh…',\n",
       "   'url': 'https://bloody-disgusting.com/video-games/3836278/here-are-our-choices-of-video-games-to-play-for-halloween-2024/',\n",
       "   'urlToImage': 'https://i0.wp.com/bloody-disgusting.com/wp-content/uploads/2024/10/sh2remake-1.jpg?resize=900%2C580&ssl=1',\n",
       "   'publishedAt': '2024-10-30T18:34:51Z',\n",
       "   'content': 'It’s that time of year again. And while watching one of the classics on TV or Blu-ray never gets old, sometimes you want to mix things up for Halloween with video game or two.\\r\\nThere’s obviously no s… [+7387 chars]'},\n",
       "  {'source': {'id': None, 'name': 'VentureBeat'},\n",
       "   'author': None,\n",
       "   'title': 'Google’s AI system could change the way we write: InkSight turns handwritten notes digital - VentureBeat',\n",
       "   'description': None,\n",
       "   'url': 'https://venturebeat.com/ai/googles-ai-system-could-change-the-way-we-write-inksight-turns-handwritten-notes-digital/',\n",
       "   'urlToImage': None,\n",
       "   'publishedAt': '2024-10-30T18:22:29Z',\n",
       "   'content': None},\n",
       "  {'source': {'id': None, 'name': '[Removed]'},\n",
       "   'author': None,\n",
       "   'title': '[Removed]',\n",
       "   'description': '[Removed]',\n",
       "   'url': 'https://removed.com',\n",
       "   'urlToImage': None,\n",
       "   'publishedAt': '2024-10-30T17:30:14Z',\n",
       "   'content': '[Removed]'},\n",
       "  {'source': {'id': None, 'name': 'GameSpot'},\n",
       "   'author': 'Jason Fanelli',\n",
       "   'title': \"Here's The Full Wizards Deck From Magic: The Gathering's Foundations Beginner's Box - GameSpot\",\n",
       "   'description': 'We have an exclusive look at one of the ten decks inside the new tool for new players.',\n",
       "   'url': 'https://www.gamespot.com/gallery/heres-the-full-wizards-deck-from-magic-the-gatherings-foundations-beginners-box/2900-5897/',\n",
       "   'urlToImage': 'https://www.gamespot.com/a/uploads/screen_kubrick/3/37852/4392257-magic-the-gathering-wizards-cover.jpg',\n",
       "   'publishedAt': '2024-10-30T17:00:00Z',\n",
       "   'content': 'GameSpot may receive revenue from affiliate and advertising partnerships for sharing this content and from purchases through links.'},\n",
       "  {'source': {'id': None, 'name': 'Android Central'},\n",
       "   'author': 'Vishnu Sarangapurkar',\n",
       "   'title': 'New OnePlus 13 details confirm ultrasonic fingerprint sensor and other display specs - Android Central',\n",
       "   'description': 'After relying on an optical fingerprint sensor for so many years, the OnePlus 13 is making a shift.',\n",
       "   'url': 'https://www.androidcentral.com/phones/oneplus-13-display-specs-and-other-essential-features-surface',\n",
       "   'urlToImage': 'https://cdn.mos.cms.futurecdn.net/LP5pov4NzTmo66ztnFeESh-1200-80.jpg',\n",
       "   'publishedAt': '2024-10-30T16:57:07Z',\n",
       "   'content': 'What you need to know\\r\\n<ul><li>OnePlus 13 to sport BOE X2 display with 120Hz refresh rate and HDR10+ plus Dolby Vision support.</li><li>It has also been confirmed to feature an ultrasonic fingerprint… [+2697 chars]'},\n",
       "  {'source': {'id': None, 'name': 'MacRumors'},\n",
       "   'author': 'Joe Rossignol',\n",
       "   'title': 'Entire Mac Lineup Now Starts With at Least 16GB RAM, Ending 8GB Era - MacRumors',\n",
       "   'description': 'Apple this week announced new iMac, Mac mini, and MacBook Pro models, and they are all available with a minimum of 16GB of RAM. Apple also announced...',\n",
       "   'url': 'https://www.macrumors.com/2024/10/30/entire-mac-lineup-now-at-least-16gb-ram/',\n",
       "   'urlToImage': 'https://images.macrumors.com/t/DzXlkW_FinXxDJ7EtuGeT0yBrlA=/1600x/article-new/2022/12/apple-silicon-mac-lineup-wwdc-2022-feature-purple.jpg',\n",
       "   'publishedAt': '2024-10-30T16:38:35Z',\n",
       "   'content': 'Apple this week announced new iMac, Mac mini, and MacBook Pro models, and they are all available with a minimum of 16GB of RAM. Apple also announced that the MacBook Air lineup now starts with 16GB o… [+703 chars]'},\n",
       "  {'source': {'id': None, 'name': 'Anime News Network'},\n",
       "   'author': None,\n",
       "   'title': 'Death Note Series Gets New Online Social Deduction Game for PS5, PS4, PC on November 5 - Anime News Network',\n",
       "   'description': 'Trailer streamed for 10-player DEATH NOTE Killer Within game',\n",
       "   'url': 'https://www.animenewsnetwork.com/news/2024-10-30/death-note-series-gets-new-online-social-deduction-game-for-ps5-ps4-pc-on-november-5/.217340',\n",
       "   'urlToImage': 'https://www.animenewsnetwork.com/thumbnails/crop600x315gK0/youtube/ruA_FjZrPfs.jpg',\n",
       "   'publishedAt': '2024-10-30T16:27:59Z',\n",
       "   'content': \"Bandai Namco Entertainment announced on Wednesday the new DEATH NOTE Killer Within game, based on Tsugumi Ohba and Takeshi Obata's Death Note manga. The online social deduction game will launch for P… [+1405 chars]\"},\n",
       "  {'source': {'id': None, 'name': 'CNET'},\n",
       "   'author': None,\n",
       "   'title': 'Apple Refreshes MacBook Pro Laptops With New M4 Pro, M4 Max Chips - CNET',\n",
       "   'description': 'The new chips drive additional upgrades, including Thunderbolt 5, increased memory (for AI!) and a much-needed webcam improvement.',\n",
       "   'url': 'https://www.cnet.com/tech/computing/apple-refreshes-macbook-pro-laptops-with-new-m4-pro-m4-max-chips/',\n",
       "   'urlToImage': 'https://www.cnet.com/a/img/resize/a1586138aeaf6d842a3882c86a77deb16be846c1/hub/2024/10/29/3b32c431-dc81-41cb-a5a6-8d6a9c590c09/apple-mac-pro-m4-late-2024.jpg?auto=webp&fit=crop&height=675&width=1200',\n",
       "   'publishedAt': '2024-10-30T16:00:00Z',\n",
       "   'content': \"Apple's new M4 processors promise generation-over-generation improvements to CPU and GPU performance for its\\xa0MacBook Pro 14\\xa0and\\xa0MacBook Pro 16\\xa0laptops. The new M4 Pro and Max chips, which follow the … [+2728 chars]\"},\n",
       "  {'source': {'id': None, 'name': '[Removed]'},\n",
       "   'author': None,\n",
       "   'title': '[Removed]',\n",
       "   'description': '[Removed]',\n",
       "   'url': 'https://removed.com',\n",
       "   'urlToImage': None,\n",
       "   'publishedAt': '2024-10-30T15:20:02Z',\n",
       "   'content': '[Removed]'},\n",
       "  {'source': {'id': None, 'name': '9to5Mac'},\n",
       "   'author': 'Ryan Christoffel',\n",
       "   'title': 'New Pokémon TCG app now available for iPhone - 9to5Mac',\n",
       "   'description': 'Nintendo has released a new Pokémon TCG app for iPhones, bringing the experience of collecting and playing with Pokémon cards to iOS.',\n",
       "   'url': 'https://9to5mac.com/2024/10/30/new-pokemon-tcg-app-now-available-for-iphone/',\n",
       "   'urlToImage': 'https://i0.wp.com/9to5mac.com/wp-content/uploads/sites/6/2024/08/pokemon-tcg-pocket-app.jpg?resize=1200%2C628&quality=82&strip=all&ssl=1',\n",
       "   'publishedAt': '2024-10-30T14:51:00Z',\n",
       "   'content': 'Nintendo has just launched a new Pokémon TCG Pocket app for iPhone. The app brings the experience of collecting and playing with Pokémon cards into the digital realm. Heres what it can do.\\r\\nThis summ… [+1246 chars]'},\n",
       "  {'source': {'id': 'the-verge', 'name': 'The Verge'},\n",
       "   'author': 'David Pierce',\n",
       "   'title': 'The Alexa Skills revolution that wasn’t - The Verge',\n",
       "   'description': 'Ever since the launch of the first Amazon Echo in 2014, the company has been trying to turn Alexa Skills into a new way to use a voice assistant —\\xa0and apps.',\n",
       "   'url': 'https://www.theverge.com/24283253/amazon-alexa-skills-app-store-10th-anniversary',\n",
       "   'urlToImage': 'https://cdn.vox-cdn.com/thumbor/4CS1ClRFO6UGsCyURN6kS-NrMZ4=/0x0:2040x1360/1200x628/filters:focal(1020x680:1021x681)/cdn.vox-cdn.com/uploads/chorus_asset/file/25696567/247324_10_years_of_Alexa_MWang__0001_SKILLS.jpg',\n",
       "   'publishedAt': '2024-10-30T14:30:00Z',\n",
       "   'content': 'Ten years ago, Amazon imagined a future beyond apps \\xa0and it had the idea basically right. But the perfect ambient computer remains frustratingly far away.\\r\\nByDavid Pierce, editor-at-large and Vergeca… [+10831 chars]'}]}"
      ]
     },
     "execution_count": 58,
     "metadata": {},
     "output_type": "execute_result"
    }
   ],
   "source": [
    "headlines"
   ]
  },
  {
   "cell_type": "code",
   "execution_count": 59,
   "id": "7a986c57",
   "metadata": {},
   "outputs": [],
   "source": [
    "# make an empty list of my titles\n",
    "# article_titles = []\n",
    "# for headline in headlines['articles']:\n",
    "#     article_titles.append(headline['title'])\n",
    "\n",
    "article_titles = [x['title'] for x in headlines['articles']] # List Comprehension "
   ]
  },
  {
   "cell_type": "code",
   "execution_count": 60,
   "id": "1461137c",
   "metadata": {},
   "outputs": [
    {
     "data": {
      "text/plain": [
       "['Apple announces Vision Pro international expansion in two more countries - 9to5Mac',\n",
       " \"Portland radio DJ survives near-death experience and loses his job before finding a better life: 'I'm lucky' - KGW.com\",\n",
       " 'Call of Duty: Black Ops 6 sets record for \"Game Pass subscriber adds on launch day\", says Microsoft - Eurogamer',\n",
       " 'Nintendo made a music streaming app for Switch Online subscribers - The Verge',\n",
       " 'Google’s AI-powered weather app is rolling out to older Pixels - The Verge',\n",
       " 'Red Dead Redemption Remastered is CPU-bound on PC, even with an AMD Ryzen 9 7950X3D - DSOGaming',\n",
       " 'Android Trojan that intercepts voice calls to banks just got more stealthy - Ars Technica',\n",
       " \"PlayStation Urgently Needs To Rethink Its Live-Service Strategy After Concord's Failure - IGN\",\n",
       " 'WordPress co-founder Matt Mullenweg says a fork would be ‘fantastic’ - TechCrunch',\n",
       " '10 Horror Video Games to Play for Halloween 2024 - Bloody Disgusting',\n",
       " 'Google’s AI system could change the way we write: InkSight turns handwritten notes digital - VentureBeat',\n",
       " '[Removed]',\n",
       " \"Here's The Full Wizards Deck From Magic: The Gathering's Foundations Beginner's Box - GameSpot\",\n",
       " 'New OnePlus 13 details confirm ultrasonic fingerprint sensor and other display specs - Android Central',\n",
       " 'Entire Mac Lineup Now Starts With at Least 16GB RAM, Ending 8GB Era - MacRumors',\n",
       " 'Death Note Series Gets New Online Social Deduction Game for PS5, PS4, PC on November 5 - Anime News Network',\n",
       " 'Apple Refreshes MacBook Pro Laptops With New M4 Pro, M4 Max Chips - CNET',\n",
       " '[Removed]',\n",
       " 'New Pokémon TCG app now available for iPhone - 9to5Mac',\n",
       " 'The Alexa Skills revolution that wasn’t - The Verge']"
      ]
     },
     "execution_count": 60,
     "metadata": {},
     "output_type": "execute_result"
    }
   ],
   "source": [
    "article_titles"
   ]
  },
  {
   "cell_type": "code",
   "execution_count": 62,
   "id": "283604c9-da8b-4bf3-9095-82b1ecf6f053",
   "metadata": {},
   "outputs": [
    {
     "name": "stderr",
     "output_type": "stream",
     "text": [
      "[nltk_data] Downloading package averaged_perceptron_tagger to\n",
      "[nltk_data]     C:\\Users\\Tinu\\AppData\\Roaming\\nltk_data...\n",
      "[nltk_data]   Package averaged_perceptron_tagger is already up-to-\n",
      "[nltk_data]       date!\n"
     ]
    },
    {
     "data": {
      "text/plain": [
       "True"
      ]
     },
     "execution_count": 62,
     "metadata": {},
     "output_type": "execute_result"
    }
   ],
   "source": [
    "nltk.download('averaged_perceptron_tagger')"
   ]
  },
  {
   "cell_type": "code",
   "execution_count": 77,
   "id": "ba3ea24d-82ef-4bbc-beb4-d34c1cdf7a85",
   "metadata": {},
   "outputs": [
    {
     "data": {
      "text/plain": [
       "['Apple', 'Vision', 'Pro']"
      ]
     },
     "execution_count": 77,
     "metadata": {},
     "output_type": "execute_result"
    }
   ],
   "source": [
    "# list of all possible POS tags from nltk: https://stackoverflow.com/questions/15388831/what-are-all-possible-pos-tags-of-nltk\n",
    "list_of_words = []\n",
    "tagged_words= pos_tag(headline[0].split())\n",
    "\n",
    "tagged_words    # Position tag function- uses the natural langauage tokeniser and splits eveyrthing up foryou\n",
    "proper_nouns = [word for word,pos in tagged_sent if pos == 'NNP'] #and word.lower() not in stopwords.words('english') and word.isalpha()])\n",
    "proper_nouns\n"
   ]
  },
  {
   "cell_type": "code",
   "execution_count": 78,
   "id": "3fb1d32d-c0e5-4eb4-8294-50bd54a8bfe9",
   "metadata": {},
   "outputs": [
    {
     "data": {
      "text/plain": [
       "['Apple',\n",
       " 'Vision',\n",
       " 'Pro',\n",
       " 'Portland',\n",
       " 'DJ',\n",
       " 'Duty:',\n",
       " 'Black',\n",
       " 'Ops',\n",
       " 'Pass',\n",
       " 'subscriber',\n",
       " 'Microsoft',\n",
       " 'Nintendo',\n",
       " 'Switch',\n",
       " 'Online',\n",
       " 'Google’s',\n",
       " 'AI-powered',\n",
       " 'Pixels',\n",
       " 'Dead',\n",
       " 'Redemption',\n",
       " 'Remastered',\n",
       " 'CPU-bound',\n",
       " 'PC,',\n",
       " 'AMD',\n",
       " 'Ryzen',\n",
       " 'Android',\n",
       " 'Trojan',\n",
       " 'Ars',\n",
       " 'Technica',\n",
       " 'PlayStation',\n",
       " 'Live-Service',\n",
       " 'Strategy',\n",
       " \"Concord's\",\n",
       " 'Failure',\n",
       " 'Matt',\n",
       " 'Mullenweg',\n",
       " 'Horror',\n",
       " 'Video',\n",
       " 'Games',\n",
       " 'Halloween',\n",
       " 'Google’s',\n",
       " 'AI',\n",
       " 'InkSight',\n",
       " \"Here's\",\n",
       " 'Full',\n",
       " 'Wizards',\n",
       " 'Deck',\n",
       " 'From',\n",
       " 'Magic:',\n",
       " \"Gathering's\",\n",
       " 'Foundations',\n",
       " \"Beginner's\",\n",
       " 'Box',\n",
       " 'New',\n",
       " 'OnePlus',\n",
       " 'Central',\n",
       " 'Entire',\n",
       " 'Mac',\n",
       " 'Lineup',\n",
       " 'Least',\n",
       " 'RAM,',\n",
       " 'Ending',\n",
       " 'Era',\n",
       " 'Death',\n",
       " 'Note',\n",
       " 'Series',\n",
       " 'Gets',\n",
       " 'New',\n",
       " 'Online',\n",
       " 'Social',\n",
       " 'Deduction',\n",
       " 'Game',\n",
       " 'PS5,',\n",
       " 'PS4,',\n",
       " 'November',\n",
       " 'Anime',\n",
       " 'News',\n",
       " 'Network',\n",
       " 'Apple',\n",
       " 'Refreshes',\n",
       " 'MacBook',\n",
       " 'Pro',\n",
       " 'Laptops',\n",
       " 'New',\n",
       " 'M4',\n",
       " 'Pro,',\n",
       " 'M4',\n",
       " 'Max',\n",
       " 'Chips',\n",
       " 'New',\n",
       " 'Pokémon',\n",
       " 'TCG',\n",
       " 'Alexa',\n",
       " 'Skills']"
      ]
     },
     "execution_count": 78,
     "metadata": {},
     "output_type": "execute_result"
    }
   ],
   "source": [
    "keywords = []\n",
    "for article_title in article_titles:\n",
    "    # tagged_words will return a list of tuples\n",
    "    tagged_words = pos_tag(article_title.split())\n",
    "    # collect all the proper nouns\n",
    "    keywords.extend([word for word,tag in tagged_words if tag == 'NNP'])\n",
    "\n",
    "keywords"
   ]
  },
  {
   "cell_type": "code",
   "execution_count": 76,
   "id": "5750f65a-c1f1-43da-9472-7634bb0d1b48",
   "metadata": {},
   "outputs": [
    {
     "data": {
      "text/plain": [
       "['Apple', 'Vision', 'Pro', 'Sony', 'Playstation']"
      ]
     },
     "execution_count": 76,
     "metadata": {},
     "output_type": "execute_result"
    }
   ],
   "source": [
    "keywords=[]\n",
    "my_lista=['Apple', 'Vision', 'Pro']\n",
    "my_listb=['Sony', 'Playstation']\n",
    "keywords.extend(my_lista)\n",
    "keywords.extend(my_listb)\n",
    "\n",
    "keywords"
   ]
  },
  {
   "cell_type": "code",
   "execution_count": 80,
   "id": "998d9785-b7d9-432e-ad7d-4dc52c8dd15a",
   "metadata": {},
   "outputs": [
    {
     "data": {
      "text/plain": [
       "Counter({'New': 4,\n",
       "         'Apple': 2,\n",
       "         'Pro': 2,\n",
       "         'Online': 2,\n",
       "         'Google’s': 2,\n",
       "         'M4': 2,\n",
       "         'Vision': 1,\n",
       "         'Portland': 1,\n",
       "         'DJ': 1,\n",
       "         'Duty:': 1,\n",
       "         'Black': 1,\n",
       "         'Ops': 1,\n",
       "         'Pass': 1,\n",
       "         'subscriber': 1,\n",
       "         'Microsoft': 1,\n",
       "         'Nintendo': 1,\n",
       "         'Switch': 1,\n",
       "         'AI-powered': 1,\n",
       "         'Pixels': 1,\n",
       "         'Dead': 1,\n",
       "         'Redemption': 1,\n",
       "         'Remastered': 1,\n",
       "         'CPU-bound': 1,\n",
       "         'PC,': 1,\n",
       "         'AMD': 1,\n",
       "         'Ryzen': 1,\n",
       "         'Android': 1,\n",
       "         'Trojan': 1,\n",
       "         'Ars': 1,\n",
       "         'Technica': 1,\n",
       "         'PlayStation': 1,\n",
       "         'Live-Service': 1,\n",
       "         'Strategy': 1,\n",
       "         \"Concord's\": 1,\n",
       "         'Failure': 1,\n",
       "         'Matt': 1,\n",
       "         'Mullenweg': 1,\n",
       "         'Horror': 1,\n",
       "         'Video': 1,\n",
       "         'Games': 1,\n",
       "         'Halloween': 1,\n",
       "         'AI': 1,\n",
       "         'InkSight': 1,\n",
       "         \"Here's\": 1,\n",
       "         'Full': 1,\n",
       "         'Wizards': 1,\n",
       "         'Deck': 1,\n",
       "         'From': 1,\n",
       "         'Magic:': 1,\n",
       "         \"Gathering's\": 1,\n",
       "         'Foundations': 1,\n",
       "         \"Beginner's\": 1,\n",
       "         'Box': 1,\n",
       "         'OnePlus': 1,\n",
       "         'Central': 1,\n",
       "         'Entire': 1,\n",
       "         'Mac': 1,\n",
       "         'Lineup': 1,\n",
       "         'Least': 1,\n",
       "         'RAM,': 1,\n",
       "         'Ending': 1,\n",
       "         'Era': 1,\n",
       "         'Death': 1,\n",
       "         'Note': 1,\n",
       "         'Series': 1,\n",
       "         'Gets': 1,\n",
       "         'Social': 1,\n",
       "         'Deduction': 1,\n",
       "         'Game': 1,\n",
       "         'PS5,': 1,\n",
       "         'PS4,': 1,\n",
       "         'November': 1,\n",
       "         'Anime': 1,\n",
       "         'News': 1,\n",
       "         'Network': 1,\n",
       "         'Refreshes': 1,\n",
       "         'MacBook': 1,\n",
       "         'Laptops': 1,\n",
       "         'Pro,': 1,\n",
       "         'Max': 1,\n",
       "         'Chips': 1,\n",
       "         'Pokémon': 1,\n",
       "         'TCG': 1,\n",
       "         'Alexa': 1,\n",
       "         'Skills': 1})"
      ]
     },
     "execution_count": 80,
     "metadata": {},
     "output_type": "execute_result"
    }
   ],
   "source": [
    "word_counter = collections.Counter(keywords)\n",
    "word_counter"
   ]
  },
  {
   "cell_type": "code",
   "execution_count": 89,
   "id": "773dabff-90c2-4d1b-a617-2ec9b44ece2e",
   "metadata": {},
   "outputs": [
    {
     "data": {
      "text/plain": [
       "[]"
      ]
     },
     "execution_count": 89,
     "metadata": {},
     "output_type": "execute_result"
    }
   ],
   "source": [
    "# if you want to remove duplicates in a list, convert to a dictionary and then back to a list\n",
    "# because a dictionary does not allow duplicate keys and will remove them\n",
    "list_of_words_no_repeat = list(dict.fromkeys(list_of_words))\n",
    "list_of_words_no_repeat"
   ]
  },
  {
   "cell_type": "code",
   "execution_count": 90,
   "id": "c4ca4d43",
   "metadata": {},
   "outputs": [],
   "source": [
    "# open file with keys and set the path to your credentials JSON file\n",
    "credentials = \"spotify-keys.json\"\n",
    "with open(credentials, \"r\") as keys:\n",
    "    api_tokens = json.load(keys)"
   ]
  },
  {
   "cell_type": "code",
   "execution_count": 91,
   "id": "e9648894",
   "metadata": {},
   "outputs": [],
   "source": [
    "client_id = api_tokens[\"client_id\"]\n",
    "client_secret = api_tokens[\"client_secret\"]\n",
    "redirectURI = api_tokens[\"redirect\"]\n",
    "username = api_tokens[\"username\"]"
   ]
  },
  {
   "cell_type": "code",
   "execution_count": 92,
   "id": "395a77f0",
   "metadata": {},
   "outputs": [],
   "source": [
    "scope = 'user-read-private user-read-playback-state user-modify-playback-state playlist-modify-public user-library-read'\n",
    "token = util.prompt_for_user_token(username, scope, client_id=client_id,\n",
    "                           client_secret=client_secret,\n",
    "                           redirect_uri=redirectURI)"
   ]
  },
  {
   "cell_type": "code",
   "execution_count": 93,
   "id": "342483dd",
   "metadata": {},
   "outputs": [
    {
     "data": {
      "text/plain": [
       "'BQDgSAXsb4cEySczU2w956dEIElhEnP2x-DcoifThzYnmMYQ4f_N9SDLQC8HxMuo-eZ1wqLd4aL6iKiCsn0oc0EjqJ7R79BwwGkMO8T_h1mH04OxVZAy_USjVCysbnbZb7ApvdtuMwM9hGktuY7CWt-mua82X5qhU0fNsr9q1aoMWSLclsAiSnaGWFgePZ59hvNJz8GqGilHGq-9iPg3ynuYvzMqKK852Z2RhKP7YBnCxOcwBd95C1YuDjlvEf9PPj9d-aym5g'"
      ]
     },
     "execution_count": 93,
     "metadata": {},
     "output_type": "execute_result"
    }
   ],
   "source": [
    "# print out token\n",
    "token"
   ]
  },
  {
   "cell_type": "code",
   "execution_count": 96,
   "id": "15ba215f",
   "metadata": {},
   "outputs": [],
   "source": [
    "# create my Spotify object\n",
    "sp = spotipy.Spotify(auth=token)"
   ]
  },
  {
   "cell_type": "code",
   "execution_count": 97,
   "id": "7fddf460",
   "metadata": {},
   "outputs": [
    {
     "name": "stdout",
     "output_type": "stream",
     "text": [
      "['spotify:track:0IVkP59yJ9GFF6B7IrvrxA', 'spotify:track:67iAlVNDDdddxqSD2EZhFs', 'spotify:track:3ZXOkRlGr6qmiOb6FI8GwP', 'spotify:track:4Huu65kMNpBongpyBtPTDr', 'spotify:track:50SxWFCvmZCYcpKWPZECES', 'spotify:track:1H5PVxswRh4KpLoW5o78VJ']\n"
     ]
    }
   ],
   "source": [
    "# start a list of songs for my headline playlist\n",
    "songs_for_playlist = []\n",
    "for keyword in word_counter.keys():\n",
    "    # only take the 'top' words\n",
    "    if word_counter[keyword] > 1:\n",
    "        # search for artists based on my keyword, only give me one artist\n",
    "        searchResults = sp.search(q=\"artist:\" + keyword, type=\"track\", limit=1) # limit is how many songs per keyword\n",
    "        # make sure that something gets returned\n",
    "        if len(searchResults['tracks']['items']) > 0:\n",
    "            songs_for_playlist.append(searchResults['tracks']['items'][0]['uri']) # Uniform resource identifier\n",
    "    \n",
    "print(songs_for_playlist)"
   ]
  },
  {
   "cell_type": "code",
   "execution_count": 98,
   "id": "d1dbae13",
   "metadata": {},
   "outputs": [
    {
     "name": "stdout",
     "output_type": "stream",
     "text": [
      "{'snapshot_id': 'AAAAAptyXsTcUBKJ9kq6Vem12//aJetx'}\n"
     ]
    }
   ],
   "source": [
    "my_playlist = sp.user_playlist_create(user=username, name=\"Todays News\", public=True, #if you change to false it modifies the scope set earlier in the code \n",
    "                                      description=\"Songs for the news\")\n",
    "results = sp.user_playlist_add_tracks(username, my_playlist['id'], songs_for_playlist)\n",
    "print(results)"
   ]
  },
  {
   "cell_type": "code",
   "execution_count": 99,
   "id": "4bf911dc",
   "metadata": {},
   "outputs": [
    {
     "data": {
      "text/plain": [
       "True"
      ]
     },
     "execution_count": 99,
     "metadata": {},
     "output_type": "execute_result"
    }
   ],
   "source": [
    "webbrowser.open(my_playlist['external_urls']['spotify'])\n"
   ]
  }
 ],
 "metadata": {
  "kernelspec": {
   "display_name": "Python 3 (ipykernel)",
   "language": "python",
   "name": "python3"
  },
  "language_info": {
   "codemirror_mode": {
    "name": "ipython",
    "version": 3
   },
   "file_extension": ".py",
   "mimetype": "text/x-python",
   "name": "python",
   "nbconvert_exporter": "python",
   "pygments_lexer": "ipython3",
   "version": "3.12.7"
  }
 },
 "nbformat": 4,
 "nbformat_minor": 5
}
